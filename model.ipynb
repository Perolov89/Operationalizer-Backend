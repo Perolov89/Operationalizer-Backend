{
 "cells": [
  {
   "cell_type": "markdown",
   "metadata": {},
   "source": [
    "#### Import Tensorflow etc"
   ]
  },
  {
   "cell_type": "code",
   "execution_count": 1,
   "metadata": {},
   "outputs": [],
   "source": [
    "# Import what we need to train our model\n",
    "import tensorflow as tf\n",
    "import matplotlib.pyplot as plt\n",
    "import numpy as np"
   ]
  },
  {
   "cell_type": "markdown",
   "metadata": {},
   "source": [
    "\n",
    "## Loading the data from the directories and preprocess it for training\n"
   ]
  },
  {
   "cell_type": "code",
   "execution_count": 2,
   "metadata": {},
   "outputs": [],
   "source": [
    "# Saving the datasets in variables\n",
    "train_dir = '/Users/olle/Downloads/final_symbols_split_ttv/train'\n",
    "val_dir = '/Users/olle/Downloads/final_symbols_split_ttv/val'\n",
    "test_dir = '/Users/olle/Downloads/final_symbols_split_ttv/test'\n",
    "\n"
   ]
  },
  {
   "cell_type": "markdown",
   "metadata": {},
   "source": [
    "#### Setting the parameters for loading the dataset"
   ]
  },
  {
   "cell_type": "code",
   "execution_count": 3,
   "metadata": {},
   "outputs": [],
   "source": [
    "\n",
    "batch_size = 32 # Determines the number of images processed at once (in one batch) during training.\n",
    "# Neural networks train more efficiently on mini-batches of data rather than on single images or the entire dataset at once.\n",
    "\n",
    "# Height and width defines the dimensions to which each image will be resized\n",
    "img_height = 28\n",
    "img_width = 28\n",
    "#  Neural networks require inputs of consistent shape, so images of different sizes must be resized or cropped to match.\n",
    "\n",
    "#  The choice of image size affects the model's complexity. Smaller images reduce the amount of data the model has to process,\n",
    "#  leading to faster training times but potentially less detail."
   ]
  },
  {
   "cell_type": "code",
   "execution_count": 4,
   "metadata": {},
   "outputs": [
    {
     "name": "stdout",
     "output_type": "stream",
     "text": [
      "Found 42749 files belonging to 14 classes.\n",
      "Classes: ['0', '1', '2', '3', '4', '5', '6', '7', '8', '9', 'add', 'divide', 'multiply', 'subtract']\n",
      "Number of classes: 14\n"
     ]
    }
   ],
   "source": [
    "# Load training data\n",
    "train_dataset = tf.keras.utils.image_dataset_from_directory(\n",
    "    train_dir,\n",
    "    labels='inferred',  # Automatically infer labels from the subdirectory names\n",
    "    label_mode='categorical', \n",
    "    color_mode='grayscale',\n",
    "    batch_size=batch_size,\n",
    "    image_size=(img_height, img_width),\n",
    "    shuffle=True #The dataset should be shuffled randomly each time it is iterated over during training\n",
    ")\n",
    "\n",
    "class_names = train_dataset.class_names  # Automatically inferred from subdirectory names\n",
    "\n",
    "# Print the classes to verify\n",
    "print(\"Classes:\", class_names)\n",
    "print(\"Number of classes:\", len(class_names))"
   ]
  },
  {
   "cell_type": "code",
   "execution_count": 5,
   "metadata": {},
   "outputs": [
    {
     "name": "stdout",
     "output_type": "stream",
     "text": [
      "Found 5337 files belonging to 14 classes.\n"
     ]
    }
   ],
   "source": [
    "# Load validation data\n",
    "val_dataset = tf.keras.utils.image_dataset_from_directory(\n",
    "    val_dir,\n",
    "    labels='inferred',\n",
    "    label_mode='categorical',\n",
    "    color_mode='grayscale',\n",
    "    batch_size=batch_size,\n",
    "    image_size=(img_height, img_width)\n",
    ")"
   ]
  },
  {
   "cell_type": "code",
   "execution_count": 6,
   "metadata": {},
   "outputs": [
    {
     "name": "stdout",
     "output_type": "stream",
     "text": [
      "Found 5356 files belonging to 14 classes.\n"
     ]
    }
   ],
   "source": [
    "# Load test data\n",
    "test_dataset = tf.keras.utils.image_dataset_from_directory(\n",
    "    test_dir,\n",
    "    labels='inferred',\n",
    "    label_mode='categorical',\n",
    "    color_mode='grayscale',\n",
    "    batch_size=batch_size,\n",
    "    image_size=(img_height, img_width)\n",
    ")"
   ]
  },
  {
   "cell_type": "markdown",
   "metadata": {},
   "source": [
    "### Preprocess and Prepare for Training"
   ]
  },
  {
   "cell_type": "code",
   "execution_count": 7,
   "metadata": {},
   "outputs": [],
   "source": [
    "# To improve training, it's helpful to normalize pixel values and cache the data for performance.\n",
    "\n",
    "# Normalize the pixel values to [0, 1] from [0, 255]\n",
    "normalization_layer = tf.keras.layers.Rescaling(1./255)\n",
    "\n",
    "# Applies normalization_layer to all batches of data\n",
    "train_dataset = train_dataset.map(lambda x, y: (normalization_layer(x), y))\n",
    "val_dataset = val_dataset.map(lambda x, y: (normalization_layer(x), y))\n",
    "test_dataset = test_dataset.map(lambda x, y: (normalization_layer(x), y))\n",
    "\n",
    "# The combination of cache() and prefetch() optimizes the data pipeline, improving training and inference speed by minimizing the\n",
    "# time spent waiting for data.\n",
    "\n",
    "# cache(): Stores the dataset in memory after the first epoch\n",
    "# prefetch(): Preloads batches of data into memory while the model is training on the current batch.\n",
    "# autotune setting: automatically chooses the best prefetching buffer size ( Its a constand provided by tensorflow )\n",
    "\n",
    "AUTOTUNE = tf.data.AUTOTUNE\n",
    "train_dataset = train_dataset.cache().prefetch(buffer_size=AUTOTUNE)\n",
    "val_dataset = val_dataset.cache().prefetch(buffer_size=AUTOTUNE)\n",
    "test_dataset = test_dataset.cache().prefetch(buffer_size=AUTOTUNE)"
   ]
  },
  {
   "cell_type": "markdown",
   "metadata": {},
   "source": [
    "##  Building the Model"
   ]
  },
  {
   "cell_type": "markdown",
   "metadata": {},
   "source": [
    "### Import from keras"
   ]
  },
  {
   "cell_type": "code",
   "execution_count": 9,
   "metadata": {},
   "outputs": [],
   "source": [
    "from keras import Sequential, Input\n",
    "from keras.api.layers import *"
   ]
  },
  {
   "cell_type": "markdown",
   "metadata": {},
   "source": [
    "### Construct the model"
   ]
  },
  {
   "cell_type": "markdown",
   "metadata": {},
   "source": [
    "This sequential model has multiple layers that process the image data step by step."
   ]
  },
  {
   "cell_type": "code",
   "execution_count": 10,
   "metadata": {},
   "outputs": [],
   "source": [
    "model = Sequential([\n",
    "    Input(shape=(img_height, img_width, 1)),\n",
    "    # The input layer does not perform any computation; it simply tells the model the shape of incoming images. 1 indicates grayscale images\n",
    "\n",
    "    Conv2D(32, (3, 3), activation='relu'),\n",
    "    # This layer applies 16 filters (or kernels) to the input image\n",
    "    # (3, 3): Each filter is a 3x3 matrix, sliding over the image and detecting specific patterns, like edges.\n",
    "    # This operation produces 16 new images (one for each filter), each representing a feature map.\n",
    "\n",
    "    # Think of filters as small windows that detect certain features in the image,\n",
    "    # such as horizontal or vertical lines. The more filters, the more features it can learn\n",
    "\n",
    "    # The ReLU (Rectified Linear Unit) activation introduces non-linearity,\n",
    "    # which allows the network to learn complex patterns by setting all negative values in the feature maps to zero\n",
    "\n",
    "    MaxPooling2D(pool_size=(2, 2)),\n",
    "    # Pooling Size (2, 2): This layer takes the maximum value in each 2x2 window, reducing the spatial dimensions by half.\n",
    "    # For example, if the input to this layer is (28, 28), the output will be (14, 14)\n",
    "    # The purpose is to help this layer reduce the amount of computation and helps the model focus on the most important features.\n",
    "\n",
    "    Conv2D(64, (3, 3), activation='relu'),\n",
    "    # Applies 32 filters of size (3, 3) to the downsampled feature maps from the previous layer,\n",
    "    # enabling the model to detect more complex patterns by building on the simpler features found by the first layer\n",
    "\n",
    "    MaxPooling2D(pool_size=(2, 2)),\n",
    "    # This layer further reduces the spatial dimensions by half again, reducing the overall feature map size.\n",
    "\n",
    "    Flatten(),\n",
    "    # Converts the 2D feature maps into a 1D vector, making it ready for the fully connected dense layers.\n",
    "    # The resulting 1D vector is passed to dense layers for classification.\n",
    "\n",
    "    Dense(128, activation='relu'),\n",
    "    # A fully connected layer with 64 neurons, which learns to combine the high-level features detected\n",
    "    # by the previous layers to make decisions\n",
    "    # Like before, the ReLU function allows the model to learn more complex patterns by introducing non-linearity.\n",
    "\n",
    "    Dense(len(class_names), activation='softmax')\n",
    "    # The final layer, which outputs probabilities for each of the 14 classes (10 digits + 4 operators)\n",
    "    # Converts the raw scores for each class into probabilities that sum to 1, allowing the network to assign a confidence score to each class.\n",
    "])"
   ]
  },
  {
   "cell_type": "markdown",
   "metadata": {},
   "source": [
    "### Compiling the Model"
   ]
  },
  {
   "cell_type": "code",
   "execution_count": 11,
   "metadata": {},
   "outputs": [],
   "source": [
    "model.compile(\n",
    "    optimizer='adam',\n",
    "    # The Adam optimizer adjusts the model's weights to minimize the loss function.\n",
    "    # It’s adaptive, efficient, and commonly used for deep learning tasks.\n",
    "    loss='categorical_crossentropy',\n",
    "    # The loss function measures the difference between the true labels and the predicted probabilities\n",
    "    metrics=['accuracy']\n",
    "    # This tracks the accuracy during training and evaluation, showing the proportion of correct predictions.\n",
    ")"
   ]
  },
  {
   "cell_type": "markdown",
   "metadata": {},
   "source": [
    "## Train the Model"
   ]
  },
  {
   "cell_type": "markdown",
   "metadata": {},
   "source": [
    "Training Dataset: helps the model learn patterns in the data.\n",
    "\n",
    "Validation Dataset: assesses how well the model generalizes to unseen data, acting as a quality check against overfitting.\n",
    "\n",
    "Epochs: control the training duration, affecting the balance between underfitting and overfitting."
   ]
  },
  {
   "cell_type": "code",
   "execution_count": 12,
   "metadata": {},
   "outputs": [
    {
     "name": "stdout",
     "output_type": "stream",
     "text": [
      "Epoch 1/10\n",
      "\u001b[1m1336/1336\u001b[0m \u001b[32m━━━━━━━━━━━━━━━━━━━━\u001b[0m\u001b[37m\u001b[0m \u001b[1m14s\u001b[0m 10ms/step - accuracy: 0.7339 - loss: 0.8668 - val_accuracy: 0.9350 - val_loss: 0.1986\n",
      "Epoch 2/10\n",
      "\u001b[1m1336/1336\u001b[0m \u001b[32m━━━━━━━━━━━━━━━━━━━━\u001b[0m\u001b[37m\u001b[0m \u001b[1m10s\u001b[0m 8ms/step - accuracy: 0.9428 - loss: 0.1859 - val_accuracy: 0.9638 - val_loss: 0.1142\n",
      "Epoch 3/10\n",
      "\u001b[1m1336/1336\u001b[0m \u001b[32m━━━━━━━━━━━━━━━━━━━━\u001b[0m\u001b[37m\u001b[0m \u001b[1m11s\u001b[0m 8ms/step - accuracy: 0.9667 - loss: 0.1076 - val_accuracy: 0.9648 - val_loss: 0.1087\n",
      "Epoch 4/10\n",
      "\u001b[1m1336/1336\u001b[0m \u001b[32m━━━━━━━━━━━━━━━━━━━━\u001b[0m\u001b[37m\u001b[0m \u001b[1m11s\u001b[0m 8ms/step - accuracy: 0.9781 - loss: 0.0679 - val_accuracy: 0.9672 - val_loss: 0.1152\n",
      "Epoch 5/10\n",
      "\u001b[1m1336/1336\u001b[0m \u001b[32m━━━━━━━━━━━━━━━━━━━━\u001b[0m\u001b[37m\u001b[0m \u001b[1m10s\u001b[0m 7ms/step - accuracy: 0.9839 - loss: 0.0511 - val_accuracy: 0.9749 - val_loss: 0.0825\n",
      "Epoch 6/10\n",
      "\u001b[1m1336/1336\u001b[0m \u001b[32m━━━━━━━━━━━━━━━━━━━━\u001b[0m\u001b[37m\u001b[0m \u001b[1m9s\u001b[0m 7ms/step - accuracy: 0.9881 - loss: 0.0346 - val_accuracy: 0.9762 - val_loss: 0.0808\n",
      "Epoch 7/10\n",
      "\u001b[1m1336/1336\u001b[0m \u001b[32m━━━━━━━━━━━━━━━━━━━━\u001b[0m\u001b[37m\u001b[0m \u001b[1m9s\u001b[0m 7ms/step - accuracy: 0.9911 - loss: 0.0264 - val_accuracy: 0.9740 - val_loss: 0.1015\n",
      "Epoch 8/10\n",
      "\u001b[1m1336/1336\u001b[0m \u001b[32m━━━━━━━━━━━━━━━━━━━━\u001b[0m\u001b[37m\u001b[0m \u001b[1m10s\u001b[0m 7ms/step - accuracy: 0.9936 - loss: 0.0212 - val_accuracy: 0.9775 - val_loss: 0.0891\n",
      "Epoch 9/10\n",
      "\u001b[1m1336/1336\u001b[0m \u001b[32m━━━━━━━━━━━━━━━━━━━━\u001b[0m\u001b[37m\u001b[0m \u001b[1m9s\u001b[0m 7ms/step - accuracy: 0.9936 - loss: 0.0213 - val_accuracy: 0.9766 - val_loss: 0.1004\n",
      "Epoch 10/10\n",
      "\u001b[1m1336/1336\u001b[0m \u001b[32m━━━━━━━━━━━━━━━━━━━━\u001b[0m\u001b[37m\u001b[0m \u001b[1m11s\u001b[0m 8ms/step - accuracy: 0.9952 - loss: 0.0149 - val_accuracy: 0.9807 - val_loss: 0.0849\n"
     ]
    }
   ],
   "source": [
    "history = model.fit(\n",
    "    train_dataset,\n",
    "    # The training dataset is the main set of data used by the model to learn the relationships between inputs and outputs.\n",
    "    validation_data=val_dataset,\n",
    "    # Using a validation dataset helps to prevent overfitting by allowing to monitor the model’s performance on data it hasn’t seen before.\n",
    "    # After each epoch, the model evaluates its performance on the validation dataset,\n",
    "    # giving an indication of how well it is generalizing to unseen data\n",
    "    epochs=10\n",
    "    # With each epoch, the model updates its weights to reduce the loss based on the training data,\n",
    "    # ideally improving its accuracy and generalization\n",
    ")"
   ]
  },
  {
   "cell_type": "markdown",
   "metadata": {},
   "source": [
    "#### Accuracy and loss over epochs to check for signs of overfitting "
   ]
  },
  {
   "cell_type": "code",
   "execution_count": 13,
   "metadata": {},
   "outputs": [
    {
     "data": {
      "image/png": "[encoded data removed]",
      "text/plain": [
       "<Figure size 640x480 with 1 Axes>"
      ]
     },
     "metadata": {},
     "output_type": "display_data"
    },
    {
     "data": {
      "image/png": "[encoded data removed]",
      "text/plain": [
       "<Figure size 640x480 with 1 Axes>"
      ]
     },
     "metadata": {},
     "output_type": "display_data"
    }
   ],
   "source": [
    "# Plot training and validation accuracy\n",
    "plt.plot(history.history['accuracy'], label='Training Accuracy')\n",
    "plt.plot(history.history['val_accuracy'], label='Validation Accuracy')\n",
    "plt.xlabel('Epoch')\n",
    "plt.ylabel('Accuracy')\n",
    "plt.legend()\n",
    "plt.show()\n",
    "\n",
    "# Plot training and validation loss\n",
    "plt.plot(history.history['loss'], label='Training Loss')\n",
    "plt.plot(history.history['val_loss'], label='Validation Loss')\n",
    "plt.xlabel('Epoch')\n",
    "plt.ylabel('Loss')\n",
    "plt.legend()\n",
    "plt.show()"
   ]
  },
  {
   "cell_type": "markdown",
   "metadata": {},
   "source": [
    "#### Testing the model"
   ]
  },
  {
   "cell_type": "code",
   "execution_count": 14,
   "metadata": {},
   "outputs": [
    {
     "name": "stdout",
     "output_type": "stream",
     "text": [
      "\u001b[1m168/168\u001b[0m \u001b[32m━━━━━━━━━━━━━━━━━━━━\u001b[0m\u001b[37m\u001b[0m \u001b[1m1s\u001b[0m 4ms/step - accuracy: 0.9852 - loss: 0.0737\n",
      "Test accuracy: 0.9836\n"
     ]
    }
   ],
   "source": [
    "test_loss, test_accuracy = model.evaluate(test_dataset)\n",
    "print(f\"Test accuracy: {test_accuracy:.4f}\")\n",
    "# Observe that the test result was not the same as the result from the last epoch"
   ]
  },
  {
   "cell_type": "markdown",
   "metadata": {},
   "source": [
    "## Saving the model"
   ]
  },
  {
   "cell_type": "code",
   "execution_count": 16,
   "metadata": {},
   "outputs": [],
   "source": [
    "model.save('number_and_symbol_recognizer.keras')"
   ]
  }
 ],
 "metadata": {
  "kernelspec": {
   "display_name": ".venv",
   "language": "python",
   "name": "python3"
  },
  "language_info": {
   "codemirror_mode": {
    "name": "ipython",
    "version": 3
   },
   "file_extension": ".py",
   "mimetype": "text/x-python",
   "name": "python",
   "nbconvert_exporter": "python",
   "pygments_lexer": "ipython3",
   "version": "3.12.7"
  },
  "orig_nbformat": 4
 },
 "nbformat": 4,
 "nbformat_minor": 2
}
