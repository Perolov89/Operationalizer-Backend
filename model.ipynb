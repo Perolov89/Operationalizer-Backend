{
 "cells": [
  {
   "cell_type": "markdown",
   "metadata": {},
   "source": [
    "#### Import Tensorflow etc"
   ]
  },
  {
   "cell_type": "code",
   "execution_count": 3,
   "metadata": {},
   "outputs": [],
   "source": [
    "# Import what we need to train our model\n",
    "import tensorflow as tf\n",
    "import matplotlib.pyplot as plt\n",
    "import numpy as np"
   ]
  },
  {
   "cell_type": "markdown",
   "metadata": {},
   "source": [
    "\n",
    "## Loading the data from the directories and preprocess it for training\n"
   ]
  },
  {
   "cell_type": "code",
   "execution_count": 5,
   "metadata": {},
   "outputs": [],
   "source": [
    "# Saving the datasets in variables\n",
    "train_dir = '/Users/olle/Downloads/final_symbols_split_ttv/train'\n",
    "val_dir = '/Users/olle/Downloads/final_symbols_split_ttv/val'\n",
    "test_dir = '/Users/olle/Downloads/final_symbols_split_ttv/test'\n",
    "\n"
   ]
  },
  {
   "cell_type": "markdown",
   "metadata": {},
   "source": [
    "#### Setting the parameters for loading the dataset"
   ]
  },
  {
   "cell_type": "code",
   "execution_count": 6,
   "metadata": {},
   "outputs": [],
   "source": [
    "\n",
    "batch_size = 32 # Determines the number of images processed at once (in one batch) during training.\n",
    "# Neural networks train more efficiently on mini-batches of data rather than on single images or the entire dataset at once.\n",
    "\n",
    "# Height and width defines the dimensions to which each image will be resized\n",
    "img_height = 28\n",
    "img_width = 28\n",
    "#  Neural networks require inputs of consistent shape, so images of different sizes must be resized or cropped to match.\n",
    "\n",
    "#  The choice of image size affects the model's complexity. Smaller images reduce the amount of data the model has to process,\n",
    "#  leading to faster training times but potentially less detail."
   ]
  },
  {
   "cell_type": "code",
   "execution_count": 7,
   "metadata": {},
   "outputs": [
    {
     "name": "stdout",
     "output_type": "stream",
     "text": [
      "Found 42749 files belonging to 14 classes.\n"
     ]
    }
   ],
   "source": [
    "# Load training data\n",
    "train_dataset = tf.keras.utils.image_dataset_from_directory(\n",
    "    train_dir,\n",
    "    labels='inferred',  # Automatically infer labels from the subdirectory names\n",
    "    label_mode='int',   # Label as integers (suitable for categorical cross-entropy)\n",
    "    color_mode='grayscale',\n",
    "    batch_size=batch_size,\n",
    "    image_size=(img_height, img_width),\n",
    "    shuffle=True #The dataset should be shuffled randomly each time it is iterated over during training\n",
    ")\n",
    "\n",
    "class_names = train_dataset.class_names  # Automatically inferred from subdirectory names"
   ]
  },
  {
   "cell_type": "code",
   "execution_count": 8,
   "metadata": {},
   "outputs": [
    {
     "name": "stdout",
     "output_type": "stream",
     "text": [
      "Found 5337 files belonging to 14 classes.\n"
     ]
    }
   ],
   "source": [
    "# Load validation data\n",
    "val_dataset = tf.keras.utils.image_dataset_from_directory(\n",
    "    val_dir,\n",
    "    labels='inferred',\n",
    "    label_mode='int',\n",
    "    color_mode='grayscale',\n",
    "    batch_size=batch_size,\n",
    "    image_size=(img_height, img_width)\n",
    ")"
   ]
  },
  {
   "cell_type": "code",
   "execution_count": 9,
   "metadata": {},
   "outputs": [
    {
     "name": "stdout",
     "output_type": "stream",
     "text": [
      "Found 5356 files belonging to 14 classes.\n"
     ]
    }
   ],
   "source": [
    "# Load test data\n",
    "test_dataset = tf.keras.utils.image_dataset_from_directory(\n",
    "    test_dir,\n",
    "    labels='inferred',\n",
    "    label_mode='int',\n",
    "    color_mode='grayscale',\n",
    "    batch_size=batch_size,\n",
    "    image_size=(img_height, img_width)\n",
    ")"
   ]
  },
  {
   "cell_type": "markdown",
   "metadata": {},
   "source": [
    "### Preprocess and Prepare for Training"
   ]
  },
  {
   "cell_type": "code",
   "execution_count": 10,
   "metadata": {},
   "outputs": [],
   "source": [
    "# To improve training, it's helpful to normalize pixel values and cache the data for performance.\n",
    "\n",
    "# Normalize the pixel values to [0, 1] from [0, 255]\n",
    "normalization_layer = tf.keras.layers.Rescaling(1./255)\n",
    "\n",
    "# Applies normalization_layer to all batches of data\n",
    "train_dataset = train_dataset.map(lambda x, y: (normalization_layer(x), y))\n",
    "val_dataset = val_dataset.map(lambda x, y: (normalization_layer(x), y))\n",
    "test_dataset = test_dataset.map(lambda x, y: (normalization_layer(x), y))\n",
    "\n",
    "# The combination of cache() and prefetch() optimizes the data pipeline, improving training and inference speed by minimizing the\n",
    "# time spent waiting for data.\n",
    "\n",
    "# cache(): Stores the dataset in memory after the first epoch\n",
    "# prefetch(): Preloads batches of data into memory while the model is training on the current batch.\n",
    "# autotune setting: automatically chooses the best prefetching buffer size ( Its a constand provided by tensorflow )\n",
    "\n",
    "AUTOTUNE = tf.data.AUTOTUNE\n",
    "train_dataset = train_dataset.cache().prefetch(buffer_size=AUTOTUNE)\n",
    "val_dataset = val_dataset.cache().prefetch(buffer_size=AUTOTUNE)\n",
    "test_dataset = test_dataset.cache().prefetch(buffer_size=AUTOTUNE)"
   ]
  },
  {
   "cell_type": "markdown",
   "metadata": {},
   "source": [
    "### Visualize some data to see that everything works as expected"
   ]
  },
  {
   "cell_type": "markdown",
   "metadata": {},
   "source": [
    "The following code takes one batch of images and labels from train_dataset.\n",
    "It loops over the first 9 images in that batch and displays them in a 3x3 grid.\n",
    "The images are displayed with their corresponding class names as titles, and the axes are hidden for better readability."
   ]
  },
  {
   "cell_type": "code",
   "execution_count": 15,
   "metadata": {},
   "outputs": [
    {
     "name": "stderr",
     "output_type": "stream",
     "text": [
      "2024-11-14 16:39:45.997493: W tensorflow/core/kernels/data/cache_dataset_ops.cc:914] The calling iterator did not fully read the dataset being cached. In order to avoid unexpected truncation of the dataset, the partially cached contents of the dataset  will be discarded. This can happen if you have an input pipeline similar to `dataset.cache().take(k).repeat()`. You should use `dataset.take(k).cache().repeat()` instead.\n",
      "2024-11-14 16:39:46.041790: I tensorflow/core/framework/local_rendezvous.cc:405] Local rendezvous is aborting with status: OUT_OF_RANGE: End of sequence\n"
     ]
    },
    {
     "data": {
      "image/png": "[encoded data removed]",
      "text/plain": [
       "<Figure size 500x500 with 9 Axes>"
      ]
     },
     "metadata": {},
     "output_type": "display_data"
    }
   ],
   "source": [
    "\n",
    "\n",
    "plt.figure(figsize=(5, 5)) # Creating a figure\n",
    "for images, labels in val_dataset.take(1): # takes one batch of data from the train_dataset\n",
    "    for i in range(9):\n",
    "        ax = plt.subplot(3, 3, i + 1) # Creates a subplot in a 3x3 grid and places the next image in the i+1 position.\n",
    "        plt.imshow(images[i].numpy().squeeze(), cmap='gray')\n",
    "        # .numpy(): Converts the TensorFlow tensor to a NumPy array for compatibility with Matplotlib\n",
    "        # .squeeze(): Removes single-dimensional entries ( if the image is shaped (height, width, 1), it becomes (height, width) )\n",
    "        # cmap='gray': Displays the image in grayscale mode\n",
    "        plt.title(class_names[labels[i]]) # Sets the title of each subplot to the class name corresponding to the label of the i-th image.\n",
    "        plt.axis('off') # Hides the axis for a cleaner visualization.\n",
    "plt.show() #  Renders and displays the plotted figure\n",
    "\n",
    "# To be clear, the grid with the images is just for me as a devveloper to view. To make sure everything looks and works as expected"
   ]
  },
  {
   "cell_type": "markdown",
   "metadata": {},
   "source": [
    "##  Building the Model"
   ]
  },
  {
   "cell_type": "markdown",
   "metadata": {},
   "source": [
    "### Import from keras"
   ]
  },
  {
   "cell_type": "code",
   "execution_count": 13,
   "metadata": {},
   "outputs": [],
   "source": [
    "from keras import Sequential, Input\n",
    "from keras.api.layers import *"
   ]
  },
  {
   "cell_type": "markdown",
   "metadata": {},
   "source": [
    "### Construct the model"
   ]
  },
  {
   "cell_type": "markdown",
   "metadata": {},
   "source": [
    "This sequential model has multiple layers that process the image data step by step."
   ]
  },
  {
   "cell_type": "code",
   "execution_count": 42,
   "metadata": {},
   "outputs": [],
   "source": [
    "model = Sequential([\n",
    "    Input(shape=(img_height, img_width, 1)),\n",
    "    # The input layer does not perform any computation; it simply tells the model the shape of incoming images. 1 indicates grayscale images\n",
    "\n",
    "    Conv2D(32, (3, 3), activation='relu'),\n",
    "    # This layer applies 16 filters (or kernels) to the input image\n",
    "    # (3, 3): Each filter is a 3x3 matrix, sliding over the image and detecting specific patterns, like edges.\n",
    "    # This operation produces 16 new images (one for each filter), each representing a feature map.\n",
    "\n",
    "    # Think of filters as small windows that detect certain features in the image,\n",
    "    # such as horizontal or vertical lines. The more filters, the more features it can learn\n",
    "\n",
    "    # The ReLU (Rectified Linear Unit) activation introduces non-linearity,\n",
    "    # which allows the network to learn complex patterns by setting all negative values in the feature maps to zero\n",
    "\n",
    "    MaxPooling2D(pool_size=(2, 2)),\n",
    "    # Pooling Size (2, 2): This layer takes the maximum value in each 2x2 window, reducing the spatial dimensions by half.\n",
    "    # For example, if the input to this layer is (28, 28), the output will be (14, 14)\n",
    "    # The purpose is to help this layer reduce the amount of computation and helps the model focus on the most important features.\n",
    "\n",
    "    Conv2D(64, (3, 3), activation='relu'),\n",
    "    # Applies 32 filters of size (3, 3) to the downsampled feature maps from the previous layer,\n",
    "    # enabling the model to detect more complex patterns by building on the simpler features found by the first layer\n",
    "\n",
    "    MaxPooling2D(pool_size=(2, 2)),\n",
    "    # This layer further reduces the spatial dimensions by half again, reducing the overall feature map size.\n",
    "\n",
    "    Flatten(),\n",
    "    # Converts the 2D feature maps into a 1D vector, making it ready for the fully connected dense layers.\n",
    "    # The resulting 1D vector is passed to dense layers for classification.\n",
    "\n",
    "    Dense(128, activation='relu'),\n",
    "    # A fully connected layer with 64 neurons, which learns to combine the high-level features detected\n",
    "    # by the previous layers to make decisions\n",
    "    # Like before, the ReLU function allows the model to learn more complex patterns by introducing non-linearity.\n",
    "\n",
    "    Dense(14, activation='softmax')\n",
    "    # The final layer, which outputs probabilities for each of the 14 classes (10 digits + 4 operators)\n",
    "    # Converts the raw scores for each class into probabilities that sum to 1, allowing the network to assign a confidence score to each class.\n",
    "])"
   ]
  },
  {
   "cell_type": "markdown",
   "metadata": {},
   "source": [
    "### Compiling the Model"
   ]
  },
  {
   "cell_type": "code",
   "execution_count": 43,
   "metadata": {},
   "outputs": [],
   "source": [
    "model.compile(\n",
    "    optimizer='adam',\n",
    "    # The Adam optimizer adjusts the model's weights to minimize the loss function.\n",
    "    # It’s adaptive, efficient, and commonly used for deep learning tasks.\n",
    "    loss='sparse_categorical_crossentropy',\n",
    "    # The loss function measures the difference between the true labels and the predicted probabilities\n",
    "    # The reason sparse is used, is because the labels are integers ( 0, 1, 2, etc ) instead of one-hot encoded vectors\n",
    "    metrics=['accuracy']\n",
    "    # This tracks the accuracy during training and evaluation, showing the proportion of correct predictions.\n",
    ")"
   ]
  },
  {
   "cell_type": "markdown",
   "metadata": {},
   "source": [
    "## Train the Model"
   ]
  },
  {
   "cell_type": "markdown",
   "metadata": {},
   "source": [
    "Training Dataset: helps the model learn patterns in the data.\n",
    "\n",
    "Validation Dataset: assesses how well the model generalizes to unseen data, acting as a quality check against overfitting.\n",
    "\n",
    "Epochs: control the training duration, affecting the balance between underfitting and overfitting."
   ]
  },
  {
   "cell_type": "code",
   "execution_count": 44,
   "metadata": {},
   "outputs": [
    {
     "name": "stdout",
     "output_type": "stream",
     "text": [
      "Epoch 1/10\n",
      "\u001b[1m1336/1336\u001b[0m \u001b[32m━━━━━━━━━━━━━━━━━━━━\u001b[0m\u001b[37m\u001b[0m \u001b[1m12s\u001b[0m 9ms/step - accuracy: 0.7282 - loss: 0.8915 - val_accuracy: 0.9275 - val_loss: 0.2297\n",
      "Epoch 2/10\n",
      "\u001b[1m1336/1336\u001b[0m \u001b[32m━━━━━━━━━━━━━━━━━━━━\u001b[0m\u001b[37m\u001b[0m \u001b[1m10s\u001b[0m 7ms/step - accuracy: 0.9441 - loss: 0.1901 - val_accuracy: 0.9517 - val_loss: 0.1486\n",
      "Epoch 3/10\n",
      "\u001b[1m1336/1336\u001b[0m \u001b[32m━━━━━━━━━━━━━━━━━━━━\u001b[0m\u001b[37m\u001b[0m \u001b[1m9s\u001b[0m 7ms/step - accuracy: 0.9663 - loss: 0.1125 - val_accuracy: 0.9612 - val_loss: 0.1258\n",
      "Epoch 4/10\n",
      "\u001b[1m1336/1336\u001b[0m \u001b[32m━━━━━━━━━━━━━━━━━━━━\u001b[0m\u001b[37m\u001b[0m \u001b[1m9s\u001b[0m 7ms/step - accuracy: 0.9778 - loss: 0.0727 - val_accuracy: 0.9638 - val_loss: 0.1159\n",
      "Epoch 5/10\n",
      "\u001b[1m1336/1336\u001b[0m \u001b[32m━━━━━━━━━━━━━━━━━━━━\u001b[0m\u001b[37m\u001b[0m \u001b[1m9s\u001b[0m 7ms/step - accuracy: 0.9839 - loss: 0.0509 - val_accuracy: 0.9680 - val_loss: 0.1068\n",
      "Epoch 6/10\n",
      "\u001b[1m1336/1336\u001b[0m \u001b[32m━━━━━━━━━━━━━━━━━━━━\u001b[0m\u001b[37m\u001b[0m \u001b[1m10s\u001b[0m 7ms/step - accuracy: 0.9881 - loss: 0.0374 - val_accuracy: 0.9680 - val_loss: 0.1213\n",
      "Epoch 7/10\n",
      "\u001b[1m1336/1336\u001b[0m \u001b[32m━━━━━━━━━━━━━━━━━━━━\u001b[0m\u001b[37m\u001b[0m \u001b[1m11s\u001b[0m 8ms/step - accuracy: 0.9912 - loss: 0.0280 - val_accuracy: 0.9740 - val_loss: 0.0996\n",
      "Epoch 8/10\n",
      "\u001b[1m1336/1336\u001b[0m \u001b[32m━━━━━━━━━━━━━━━━━━━━\u001b[0m\u001b[37m\u001b[0m \u001b[1m10s\u001b[0m 7ms/step - accuracy: 0.9929 - loss: 0.0219 - val_accuracy: 0.9766 - val_loss: 0.0922\n",
      "Epoch 9/10\n",
      "\u001b[1m1336/1336\u001b[0m \u001b[32m━━━━━━━━━━━━━━━━━━━━\u001b[0m\u001b[37m\u001b[0m \u001b[1m10s\u001b[0m 7ms/step - accuracy: 0.9927 - loss: 0.0202 - val_accuracy: 0.9807 - val_loss: 0.0892\n",
      "Epoch 10/10\n",
      "\u001b[1m1336/1336\u001b[0m \u001b[32m━━━━━━━━━━━━━━━━━━━━\u001b[0m\u001b[37m\u001b[0m \u001b[1m9s\u001b[0m 7ms/step - accuracy: 0.9947 - loss: 0.0175 - val_accuracy: 0.9788 - val_loss: 0.0943\n"
     ]
    }
   ],
   "source": [
    "history = model.fit(\n",
    "    train_dataset,\n",
    "    # The training dataset is the main set of data used by the model to learn the relationships between inputs and outputs.\n",
    "    validation_data=val_dataset,\n",
    "    # Using a validation dataset helps to prevent overfitting by allowing to monitor the model’s performance on data it hasn’t seen before.\n",
    "    # After each epoch, the model evaluates its performance on the validation dataset,\n",
    "    # giving an indication of how well it is generalizing to unseen data\n",
    "    epochs=10\n",
    "    # With each epoch, the model updates its weights to reduce the loss based on the training data,\n",
    "    # ideally improving its accuracy and generalization\n",
    ")"
   ]
  },
  {
   "cell_type": "markdown",
   "metadata": {},
   "source": [
    "#### Accuracy and loss over epochs to check for signs of overfitting "
   ]
  },
  {
   "cell_type": "code",
   "execution_count": 45,
   "metadata": {},
   "outputs": [
    {
     "data": {
      "image/png": "[encoded data removed]",
      "text/plain": [
       "<Figure size 640x480 with 1 Axes>"
      ]
     },
     "metadata": {},
     "output_type": "display_data"
    },
    {
     "data": {
      "image/png": "[encoded data removed]",
      "text/plain": [
       "<Figure size 640x480 with 1 Axes>"
      ]
     },
     "metadata": {},
     "output_type": "display_data"
    }
   ],
   "source": [
    "# Plot training and validation accuracy\n",
    "plt.plot(history.history['accuracy'], label='Training Accuracy')\n",
    "plt.plot(history.history['val_accuracy'], label='Validation Accuracy')\n",
    "plt.xlabel('Epoch')\n",
    "plt.ylabel('Accuracy')\n",
    "plt.legend()\n",
    "plt.show()\n",
    "\n",
    "# Plot training and validation loss\n",
    "plt.plot(history.history['loss'], label='Training Loss')\n",
    "plt.plot(history.history['val_loss'], label='Validation Loss')\n",
    "plt.xlabel('Epoch')\n",
    "plt.ylabel('Loss')\n",
    "plt.legend()\n",
    "plt.show()"
   ]
  },
  {
   "cell_type": "markdown",
   "metadata": {},
   "source": [
    "#### Testing the model"
   ]
  },
  {
   "cell_type": "code",
   "execution_count": 46,
   "metadata": {},
   "outputs": [
    {
     "name": "stdout",
     "output_type": "stream",
     "text": [
      "\u001b[1m168/168\u001b[0m \u001b[32m━━━━━━━━━━━━━━━━━━━━\u001b[0m\u001b[37m\u001b[0m \u001b[1m1s\u001b[0m 4ms/step - accuracy: 0.9789 - loss: 0.0865\n",
      "Test accuracy: 0.9782\n"
     ]
    }
   ],
   "source": [
    "test_loss, test_accuracy = model.evaluate(test_dataset)\n",
    "print(f\"Test accuracy: {test_accuracy:.4f}\")\n",
    "# Observe that the test result was not the same as the result from the last epoch"
   ]
  },
  {
   "cell_type": "markdown",
   "metadata": {},
   "source": [
    "## Check misclassifications"
   ]
  },
  {
   "cell_type": "code",
   "execution_count": 2,
   "metadata": {},
   "outputs": [
    {
     "ename": "NameError",
     "evalue": "name 'test_dataset' is not defined",
     "output_type": "error",
     "traceback": [
      "\u001b[0;31m---------------------------------------------------------------------------\u001b[0m",
      "\u001b[0;31mNameError\u001b[0m                                 Traceback (most recent call last)",
      "Cell \u001b[0;32mIn[2], line 1\u001b[0m\n\u001b[0;32m----> 1\u001b[0m \u001b[39mfor\u001b[39;00m images, labels \u001b[39min\u001b[39;00m test_dataset\u001b[39m.\u001b[39mtake(\u001b[39m5\u001b[39m):\n\u001b[1;32m      2\u001b[0m     predictions \u001b[39m=\u001b[39m model\u001b[39m.\u001b[39mpredict(images)\n\u001b[1;32m      3\u001b[0m     predicted_labels \u001b[39m=\u001b[39m np\u001b[39m.\u001b[39margmax(predictions, axis\u001b[39m=\u001b[39m\u001b[39m1\u001b[39m)\n",
      "\u001b[0;31mNameError\u001b[0m: name 'test_dataset' is not defined"
     ]
    }
   ],
   "source": [
    "for images, labels in test_dataset.take(5):\n",
    "    predictions = model.predict(images)\n",
    "    predicted_labels = np.argmax(predictions, axis=1)\n",
    "    incorrect = np.where(predicted_labels != labels.numpy())[0]\n",
    "\n",
    "    for i in incorrect[:5]:\n",
    "\n",
    "        # Show a few misclassifications\n",
    "        plt.imshow(images[i].numpy().reshape(28, 28), cmap='gray')\n",
    "        plt.title(f\"Predicted: {predicted_labels[i]}, Actual: {labels[i].numpy()}\")\n",
    "        plt.axis('off')\n",
    "        plt.show()"
   ]
  },
  {
   "cell_type": "markdown",
   "metadata": {},
   "source": [
    "Seems to be some questionable/incorrect images in the dataset. Judging by the misclassification output"
   ]
  },
  {
   "cell_type": "markdown",
   "metadata": {},
   "source": [
    "## Saving the model"
   ]
  },
  {
   "cell_type": "code",
   "execution_count": 48,
   "metadata": {},
   "outputs": [],
   "source": [
    "model.save('number_and_symbol_recognizer.keras')"
   ]
  }
 ],
 "metadata": {
  "kernelspec": {
   "display_name": ".venv",
   "language": "python",
   "name": "python3"
  },
  "language_info": {
   "codemirror_mode": {
    "name": "ipython",
    "version": 3
   },
   "file_extension": ".py",
   "mimetype": "text/x-python",
   "name": "python",
   "nbconvert_exporter": "python",
   "pygments_lexer": "ipython3",
   "version": "3.12.7"
  },
  "orig_nbformat": 4
 },
 "nbformat": 4,
 "nbformat_minor": 2
}
