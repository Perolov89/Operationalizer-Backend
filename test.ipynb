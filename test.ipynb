{
 "cells": [
  {
   "cell_type": "markdown",
   "metadata": {},
   "source": [
    "#### Import Tensorflow etc"
   ]
  },
  {
   "cell_type": "code",
   "execution_count": 1,
   "metadata": {},
   "outputs": [],
   "source": [
    "# Import what we need to train our model\n",
    "import tensorflow as tf\n",
    "import matplotlib.pyplot as plt\n",
    "import numpy as np"
   ]
  },
  {
   "cell_type": "markdown",
   "metadata": {},
   "source": [
    "\n",
    "## Loading the data from the directories and preprocess it for training\n"
   ]
  },
  {
   "cell_type": "code",
   "execution_count": 20,
   "metadata": {},
   "outputs": [],
   "source": [
    "# Saving the datasets in variables\n",
    "train_dir = '/Users/olle/Downloads/final_symbols_split_ttv/train'\n",
    "val_dir = '/Users/olle/Downloads/final_symbols_split_ttv/val'\n",
    "test_dir = '/Users/olle/Downloads/final_symbols_split_ttv/test'\n",
    "\n"
   ]
  },
  {
   "cell_type": "markdown",
   "metadata": {},
   "source": [
    "#### Setting the parameters for loading the dataset"
   ]
  },
  {
   "cell_type": "code",
   "execution_count": 5,
   "metadata": {},
   "outputs": [],
   "source": [
    "\n",
    "batch_size = 32 # Determines the number of images processed at once (in one batch) during training.\n",
    "# Neural networks train more efficiently on mini-batches of data rather than on single images or the entire dataset at once.\n",
    "\n",
    "# Height and width defines the dimensions to which each image will be resized\n",
    "img_height = 28\n",
    "img_width = 28\n",
    "#  Neural networks require inputs of consistent shape, so images of different sizes must be resized or cropped to match.\n",
    "\n",
    "#  The choice of image size affects the model's complexity. Smaller images reduce the amount of data the model has to process,\n",
    "#  leading to faster training times but potentially less detail."
   ]
  },
  {
   "cell_type": "code",
   "execution_count": 58,
   "metadata": {},
   "outputs": [
    {
     "name": "stdout",
     "output_type": "stream",
     "text": [
      "Found 42749 files belonging to 14 classes.\n"
     ]
    }
   ],
   "source": [
    "# Load training data\n",
    "train_dataset = tf.keras.utils.image_dataset_from_directory(\n",
    "    train_dir,\n",
    "    labels='inferred',  # Automatically infer labels from the subdirectory names\n",
    "    label_mode='int',   # Label as integers (suitable for categorical cross-entropy)\n",
    "    color_mode='grayscale',\n",
    "    batch_size=batch_size,\n",
    "    image_size=(img_height, img_width),\n",
    "    shuffle=True #The dataset should be shuffled randomly each time it is iterated over during training\n",
    ")\n",
    "\n",
    "class_names = train_dataset.class_names  # Automatically inferred from subdirectory names"
   ]
  },
  {
   "cell_type": "code",
   "execution_count": 23,
   "metadata": {},
   "outputs": [
    {
     "name": "stdout",
     "output_type": "stream",
     "text": [
      "Found 5337 files belonging to 14 classes.\n"
     ]
    }
   ],
   "source": [
    "# Load validation data\n",
    "val_dataset = tf.keras.utils.image_dataset_from_directory(\n",
    "    val_dir,\n",
    "    labels='inferred',\n",
    "    label_mode='int',\n",
    "    color_mode='grayscale',\n",
    "    batch_size=batch_size,\n",
    "    image_size=(img_height, img_width)\n",
    ")"
   ]
  },
  {
   "cell_type": "code",
   "execution_count": 25,
   "metadata": {},
   "outputs": [
    {
     "name": "stdout",
     "output_type": "stream",
     "text": [
      "Found 5356 files belonging to 14 classes.\n"
     ]
    }
   ],
   "source": [
    "# Load test data\n",
    "test_dataset = tf.keras.utils.image_dataset_from_directory(\n",
    "    test_dir,\n",
    "    labels='inferred',\n",
    "    label_mode='int',\n",
    "    color_mode='grayscale',\n",
    "    batch_size=batch_size,\n",
    "    image_size=(img_height, img_width)\n",
    ")"
   ]
  },
  {
   "cell_type": "markdown",
   "metadata": {},
   "source": [
    "### Preprocess and Prepare for Training"
   ]
  },
  {
   "cell_type": "code",
   "execution_count": 30,
   "metadata": {},
   "outputs": [],
   "source": [
    "# To improve training, it's helpful to normalize pixel values and cache the data for performance.\n",
    "\n",
    "# Normalize the pixel values to [0, 1] from [0, 255]\n",
    "normalization_layer = tf.keras.layers.Rescaling(1./255)\n",
    "\n",
    "# Applies normalization_layer to all batches of data\n",
    "train_dataset = train_dataset.map(lambda x, y: (normalization_layer(x), y))\n",
    "val_dataset = val_dataset.map(lambda x, y: (normalization_layer(x), y))\n",
    "test_dataset = test_dataset.map(lambda x, y: (normalization_layer(x), y))\n",
    "\n",
    "# The combination of cache() and prefetch() optimizes the data pipeline, improving training and inference speed by minimizing the\n",
    "# time spent waiting for data.\n",
    "\n",
    "# cache(): Stores the dataset in memory after the first epoch\n",
    "# prefetch(): Preloads batches of data into memory while the model is training on the current batch.\n",
    "# autotune setting: automatically chooses the best prefetching buffer size ( Its a constand provided by tensorflow )\n",
    "\n",
    "AUTOTUNE = tf.data.AUTOTUNE\n",
    "train_dataset = train_dataset.cache().prefetch(buffer_size=AUTOTUNE)\n",
    "val_dataset = val_dataset.cache().prefetch(buffer_size=AUTOTUNE)\n",
    "test_dataset = test_dataset.cache().prefetch(buffer_size=AUTOTUNE)"
   ]
  },
  {
   "cell_type": "markdown",
   "metadata": {},
   "source": [
    "### Visualize some data to see that everything works as expected"
   ]
  },
  {
   "cell_type": "markdown",
   "metadata": {},
   "source": [
    "The following code takes one batch of images and labels from train_dataset.\n",
    "It loops over the first 9 images in that batch and displays them in a 3x3 grid.\n",
    "The images are displayed with their corresponding class names as titles, and the axes are hidden for better readability."
   ]
  },
  {
   "cell_type": "code",
   "execution_count": 46,
   "metadata": {},
   "outputs": [
    {
     "name": "stderr",
     "output_type": "stream",
     "text": [
      "2024-11-11 09:36:39.483570: I tensorflow/core/framework/local_rendezvous.cc:405] Local rendezvous is aborting with status: OUT_OF_RANGE: End of sequence\n"
     ]
    },
    {
     "data": {
      "image/png": "[encoded data removed]",
      "text/plain": [
       "<Figure size 1000x1000 with 9 Axes>"
      ]
     },
     "metadata": {},
     "output_type": "display_data"
    }
   ],
   "source": [
    "\n",
    "\n",
    "plt.figure(figsize=(10, 10)) # Creating a figure\n",
    "for images, labels in val_dataset.take(1): # takes one batch of data from the train_dataset\n",
    "    for i in range(9):\n",
    "        ax = plt.subplot(3, 3, i + 1) # Creates a subplot in a 3x3 grid and places the next image in the i+1 position.\n",
    "        plt.imshow(images[i].numpy().squeeze(), cmap='gray')\n",
    "        # .numpy(): Converts the TensorFlow tensor to a NumPy array for compatibility with Matplotlib\n",
    "        # .squeeze(): Removes single-dimensional entries ( if the image is shaped (height, width, 1), it becomes (height, width) )\n",
    "        # cmap='gray': Displays the image in grayscale mode\n",
    "        plt.title(class_names[labels[i]]) # Sets the title of each subplot to the class name corresponding to the label of the i-th image.\n",
    "        plt.axis('off') # Hides the axis for a cleaner visualization.\n",
    "plt.show() #  Renders and displays the plotted figure\n",
    "\n",
    "# To be clear, the grid with the images is just for me as a devveloper to view. To make sure everything looks and works as expected"
   ]
  },
  {
   "cell_type": "markdown",
   "metadata": {},
   "source": [
    "##  Building the Model"
   ]
  },
  {
   "cell_type": "markdown",
   "metadata": {},
   "source": [
    "### Import from keras"
   ]
  },
  {
   "cell_type": "code",
   "execution_count": 35,
   "metadata": {},
   "outputs": [],
   "source": [
    "from keras import Sequential, Input\n",
    "from keras.api.layers import *"
   ]
  },
  {
   "cell_type": "markdown",
   "metadata": {},
   "source": [
    "### Construct the model"
   ]
  },
  {
   "cell_type": "markdown",
   "metadata": {},
   "source": [
    "This sequential model has multiple layers that process the image data step by step."
   ]
  },
  {
   "cell_type": "code",
   "execution_count": 60,
   "metadata": {},
   "outputs": [],
   "source": [
    "model = Sequential([\n",
    "    Input(shape=(img_height, img_width, 1)),\n",
    "    # (img_height, img_width, 1) specifies the height and width of the input image and the number of channels. 1 indicates grayscale images\n",
    "    Conv2D(32, (3, 3), activation='relu'),\n",
    "    # This layer applies 32 filters (or kernels) to the input image\n",
    "    # (3, 3): Each filter is a 3x3 matrix, sliding over the image and detecting specific patterns, like edges.\n",
    "    # relu: ReLU (Rectified Linear Unit) introduces non-linearity, which helps the network learn complex patterns.\n",
    "    MaxPooling2D(pool_size=(2, 2)),\n",
    "    # Pooling Size (2, 2): This layer takes the maximum value in each 2x2 window, reducing the spatial dimensions by half.\n",
    "    # For example, if the input to this layer is (28, 28), the output will be (14, 14)\n",
    "\n",
    "    # The purpose is to help this layer reduce the amount of computation and helps the model focus on the most important features.\n",
    "    Conv2D(64, (3, 3), activation='relu'),\n",
    "    # Similar to the first Conv2D layer, but with 64 filters. As the network goes deeper,\n",
    "    # the number of filters usually increases to capture more complex patterns.\n",
    "    MaxPooling2D(pool_size=(2, 2)),\n",
    "    # This layer further reduces the spatial dimensions by half again, reducing the overall feature map size.\n",
    "    Flatten(),\n",
    "    # Converts the 2D feature maps into a 1D vector, making it ready for the fully connected dense layers.\n",
    "    # The resulting 1D vector is passed to dense layers for classification.\n",
    "    Dense(128, activation='relu'),\n",
    "    # 128 Units: This layer has 128 neurons, each fully connected to the previous layer\n",
    "    # Like before, the ReLU function allows the model to learn more complex patterns by introducing non-linearity.\n",
    "\n",
    "    Dense(14, activation='softmax')\n",
    "    # The number of neurons matches the number of classes in the dataset. 0-9 / * + - == 14\n",
    "    # The Softmax activation function converts the output to probabilities,\n",
    "    # where each class has a probability score that adds up to 1. This is suitable for multi-class classification.\n",
    "])"
   ]
  },
  {
   "cell_type": "markdown",
   "metadata": {},
   "source": [
    "### Compiling the Model"
   ]
  },
  {
   "cell_type": "code",
   "execution_count": 61,
   "metadata": {},
   "outputs": [],
   "source": [
    "model.compile(\n",
    "    optimizer='adam',\n",
    "    # The Adam optimizer adjusts the model's weights to minimize the loss function.\n",
    "    # It’s adaptive, efficient, and commonly used for deep learning tasks.\n",
    "    loss='sparse_categorical_crossentropy',\n",
    "    # The loss function measures the difference between the true labels and the predicted probabilities\n",
    "    # The reason sparse is used, is because the labels are integers ( 0, 1, 2, etc ) instead of one-hot encoded vectors\n",
    "    metrics=['accuracy']\n",
    "    # This tracks the accuracy during training and evaluation, showing the proportion of correct predictions.\n",
    ")"
   ]
  },
  {
   "cell_type": "markdown",
   "metadata": {},
   "source": [
    "## Train the Model"
   ]
  },
  {
   "cell_type": "markdown",
   "metadata": {},
   "source": [
    "Training Dataset: helps the model learn patterns in the data.\n",
    "\n",
    "Validation Dataset: assesses how well the model generalizes to unseen data, acting as a quality check against overfitting.\n",
    "\n",
    "Epochs: control the training duration, affecting the balance between underfitting and overfitting."
   ]
  },
  {
   "cell_type": "code",
   "execution_count": 62,
   "metadata": {},
   "outputs": [
    {
     "name": "stdout",
     "output_type": "stream",
     "text": [
      "Epoch 1/5\n",
      "\u001b[1m1336/1336\u001b[0m \u001b[32m━━━━━━━━━━━━━━━━━━━━\u001b[0m\u001b[37m\u001b[0m \u001b[1m12s\u001b[0m 9ms/step - accuracy: 0.6426 - loss: 2.9685 - val_accuracy: 0.0849 - val_loss: 2.6356\n",
      "Epoch 2/5\n",
      "\u001b[1m1336/1336\u001b[0m \u001b[32m━━━━━━━━━━━━━━━━━━━━\u001b[0m\u001b[37m\u001b[0m \u001b[1m11s\u001b[0m 8ms/step - accuracy: 0.9218 - loss: 0.2558 - val_accuracy: 0.0808 - val_loss: 2.6390\n",
      "Epoch 3/5\n",
      "\u001b[1m1336/1336\u001b[0m \u001b[32m━━━━━━━━━━━━━━━━━━━━\u001b[0m\u001b[37m\u001b[0m \u001b[1m11s\u001b[0m 9ms/step - accuracy: 0.9492 - loss: 0.1647 - val_accuracy: 0.0808 - val_loss: 2.6469\n",
      "Epoch 4/5\n",
      "\u001b[1m1336/1336\u001b[0m \u001b[32m━━━━━━━━━━━━━━━━━━━━\u001b[0m\u001b[37m\u001b[0m \u001b[1m13s\u001b[0m 9ms/step - accuracy: 0.9594 - loss: 0.1277 - val_accuracy: 0.0808 - val_loss: 2.6517\n",
      "Epoch 5/5\n",
      "\u001b[1m1336/1336\u001b[0m \u001b[32m━━━━━━━━━━━━━━━━━━━━\u001b[0m\u001b[37m\u001b[0m \u001b[1m13s\u001b[0m 10ms/step - accuracy: 0.9639 - loss: 0.1154 - val_accuracy: 0.0808 - val_loss: 2.6738\n"
     ]
    }
   ],
   "source": [
    "history = model.fit(\n",
    "    train_dataset,\n",
    "    # The training dataset is the main set of data used by the model to learn the relationships between inputs and outputs.\n",
    "    validation_data=val_dataset,\n",
    "    # Using a validation dataset helps to prevent overfitting by allowing to monitor the model’s performance on data it hasn’t seen before.\n",
    "    # After each epoch, the model evaluates its performance on the validation dataset,\n",
    "    # giving an indication of how well it is generalizing to unseen data\n",
    "    epochs=5 \n",
    "    # With each epoch, the model updates its weights to reduce the loss based on the training data,\n",
    "    # ideally improving its accuracy and generalization\n",
    ")"
   ]
  },
  {
   "cell_type": "markdown",
   "metadata": {},
   "source": [
    "## Accuracy and loss over epochs to check for signs of overfitting <------------"
   ]
  },
  {
   "cell_type": "code",
   "execution_count": 63,
   "metadata": {},
   "outputs": [
    {
     "data": {
      "image/png": "[encoded data removed]",
      "text/plain": [
       "<Figure size 640x480 with 1 Axes>"
      ]
     },
     "metadata": {},
     "output_type": "display_data"
    },
    {
     "data": {
      "image/png": "[encoded data removed]",
      "text/plain": [
       "<Figure size 640x480 with 1 Axes>"
      ]
     },
     "metadata": {},
     "output_type": "display_data"
    }
   ],
   "source": [
    "# Plot training and validation accuracy\n",
    "plt.plot(history.history['accuracy'], label='Training Accuracy')\n",
    "plt.plot(history.history['val_accuracy'], label='Validation Accuracy')\n",
    "plt.xlabel('Epoch')\n",
    "plt.ylabel('Accuracy')\n",
    "plt.legend()\n",
    "plt.show()\n",
    "\n",
    "# Plot training and validation loss\n",
    "plt.plot(history.history['loss'], label='Training Loss')\n",
    "plt.plot(history.history['val_loss'], label='Validation Loss')\n",
    "plt.xlabel('Epoch')\n",
    "plt.ylabel('Loss')\n",
    "plt.legend()\n",
    "plt.show()"
   ]
  }
 ],
 "metadata": {
  "kernelspec": {
   "display_name": ".venv",
   "language": "python",
   "name": "python3"
  },
  "language_info": {
   "codemirror_mode": {
    "name": "ipython",
    "version": 3
   },
   "file_extension": ".py",
   "mimetype": "text/x-python",
   "name": "python",
   "nbconvert_exporter": "python",
   "pygments_lexer": "ipython3",
   "version": "3.12.5"
  },
  "orig_nbformat": 4
 },
 "nbformat": 4,
 "nbformat_minor": 2
}
